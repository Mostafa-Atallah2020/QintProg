{
 "cells": [
  {
   "cell_type": "code",
   "execution_count": 2,
   "metadata": {},
   "outputs": [],
   "source": [
    "import json\n",
    "\n",
    "# Load the notebook\n",
    "with open(\"analysis.ipynb\", \"r\") as f:\n",
    "    notebook = json.load(f)\n",
    "\n",
    "# Extract outputs\n",
    "outputs = []\n",
    "for cell in notebook.get(\"cells\", []):\n",
    "    if cell[\"cell_type\"] == \"code\" and \"outputs\" in cell:\n",
    "        for output in cell[\"outputs\"]:\n",
    "            # Include textual outputs\n",
    "            if \"text\" in output:\n",
    "                outputs.append(\n",
    "                    \"\".join(output[\"text\"])\n",
    "                )  # Join lists of strings into a single string\n",
    "            # Include data outputs that are not images\n",
    "            elif \"data\" in output:\n",
    "                for key, value in output[\"data\"].items():\n",
    "                    if key not in [\n",
    "                        \"image/png\",\n",
    "                        \"image/jpeg\",\n",
    "                        \"application/pdf\",\n",
    "                    ]:  # Exclude visual data\n",
    "                        outputs.append(f\"{key}: {value}\")\n",
    "\n",
    "# Write outputs to a file\n",
    "with open(\"outputs.txt\", \"w\") as f:\n",
    "    f.write(\n",
    "        \"\\n\".join(outputs)\n",
    "    )  # Join the outputs list into a single string with line breaks"
   ]
  },
  {
   "cell_type": "code",
   "execution_count": null,
   "metadata": {},
   "outputs": [],
   "source": []
  }
 ],
 "metadata": {
  "kernelspec": {
   "display_name": "venv",
   "language": "python",
   "name": "python3"
  },
  "language_info": {
   "codemirror_mode": {
    "name": "ipython",
    "version": 3
   },
   "file_extension": ".py",
   "mimetype": "text/x-python",
   "name": "python",
   "nbconvert_exporter": "python",
   "pygments_lexer": "ipython3",
   "version": "3.12.8"
  }
 },
 "nbformat": 4,
 "nbformat_minor": 2
}
